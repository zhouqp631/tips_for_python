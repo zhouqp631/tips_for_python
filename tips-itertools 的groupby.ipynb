{
 "cells": [
  {
   "cell_type": "markdown",
   "metadata": {},
   "source": [
    "## groupby in itertools\n",
    "> python数据分析中有pandas的groupby的详细说明，且也有总结在tipsforpython中"
   ]
  },
  {
   "cell_type": "code",
   "execution_count": 13,
   "metadata": {
    "collapsed": true
   },
   "outputs": [],
   "source": [
    "from itertools import groupby\n",
    "things = [(\"animal\", \"bear\"), (\"animal\", \"duck\"), (\"plant\", \"cactus\"), (\"vehicle\", \"speed boat\"), (\"vehicle\", \"school bus\")]"
   ]
  },
  {
   "cell_type": "code",
   "execution_count": 17,
   "metadata": {},
   "outputs": [
    {
     "name": "stdout",
     "output_type": "stream",
     "text": [
      "\n",
      "\n",
      "animal\n",
      "animal+bear\n",
      "animal+duck\n",
      "\n",
      "\n",
      "plant\n",
      "plant+cactus\n",
      "\n",
      "\n",
      "vehicle\n",
      "vehicle+speed boat\n",
      "vehicle+school bus\n"
     ]
    }
   ],
   "source": [
    "for key, group in groupby(things, lambda x: x[0]):\n",
    "    print('\\n')\n",
    "    print(key)\n",
    "    for a,b in group:\n",
    "        print(a+'+'+b)\n",
    "    for thing in group:\n",
    "        print(\"A %s is a %s.\" % (thing[1], key))"
   ]
  },
  {
   "cell_type": "markdown",
   "metadata": {},
   "source": [
    "- groupby包含 分组的key和组内内容，i.e., key and group\n",
    "> groupby(sth, key)\n",
    "- groupby 输出的2部分，只能调用其中一个。估计原因是 该迭代器只能用一次 "
   ]
  },
  {
   "cell_type": "code",
   "execution_count": 19,
   "metadata": {},
   "outputs": [],
   "source": [
    "map?"
   ]
  }
 ],
 "metadata": {
  "kernelspec": {
   "display_name": "Python 3",
   "language": "python",
   "name": "python3"
  },
  "language_info": {
   "codemirror_mode": {
    "name": "ipython",
    "version": 3
   },
   "file_extension": ".py",
   "mimetype": "text/x-python",
   "name": "python",
   "nbconvert_exporter": "python",
   "pygments_lexer": "ipython3",
   "version": "3.6.1"
  }
 },
 "nbformat": 4,
 "nbformat_minor": 2
}
