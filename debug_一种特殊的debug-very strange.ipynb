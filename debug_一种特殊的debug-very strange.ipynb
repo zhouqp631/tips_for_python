{
 "cells": [
  {
   "cell_type": "markdown",
   "metadata": {},
   "source": [
    "## from Hands on --TF page236"
   ]
  },
  {
   "cell_type": "code",
   "execution_count": 1,
   "metadata": {
    "collapsed": true
   },
   "outputs": [],
   "source": [
    "import numpy as np\n",
    "import tensorflow as tf\n",
    "from sklearn.datasets import fetch_california_housing\n",
    "\n",
    "housing = fetch_california_housing()\n",
    "m,n = housing.data.shape"
   ]
  },
  {
   "cell_type": "markdown",
   "metadata": {},
   "source": [
    "出现错误：\n",
    "> ([Windows] PermissionError in datasets fetchers when trying to remove the downloaded archive)[https://github.com/scikit-learn/scikit-learn/issues/9820]\n",
    "\n",
    "更新软件包，不行。\n",
    "\n",
    "**修改办法:**\n",
    "> 直接把 california_housing.py 中的 \n",
    "\n",
    "'''\n",
    "\n",
    " fileobj = tarfile.open(         \n",
    "            mode=\"r:gz\",         \n",
    "            name=archive_path).extractfile( \n",
    "                'CaliforniaHousing/cal_housing.data') \n",
    "        remove(archive_path)\n",
    "\n",
    "'''\n",
    " \n",
    "**remove(archine_path)** 注释掉就OK了"
   ]
  },
  {
   "cell_type": "markdown",
   "metadata": {},
   "source": [
    "P.S.:\n",
    "\n",
    "> 在pycharm中使用 introception 有问题，所以可以用 dir(housing) 查看 housing的内容"
   ]
  }
 ],
 "metadata": {
  "kernelspec": {
   "display_name": "Python 3",
   "language": "python",
   "name": "python3"
  },
  "language_info": {
   "codemirror_mode": {
    "name": "ipython",
    "version": 3
   },
   "file_extension": ".py",
   "mimetype": "text/x-python",
   "name": "python",
   "nbconvert_exporter": "python",
   "pygments_lexer": "ipython3",
   "version": "3.6.1"
  }
 },
 "nbformat": 4,
 "nbformat_minor": 2
}
