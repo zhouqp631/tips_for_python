{
 "cells": [
  {
   "cell_type": "code",
   "execution_count": 3,
   "metadata": {},
   "outputs": [],
   "source": [
    "import numpy as np\n",
    "from sklearn.model_selection import train_test_split"
   ]
  },
  {
   "cell_type": "code",
   "execution_count": 25,
   "metadata": {},
   "outputs": [],
   "source": [
    "class dataClass(object):\n",
    "    \"\"\"\n",
    "    next_batch and test_batch\n",
    "    shuffle the data in every epoch\n",
    "    1 epoch: next_batch(nb),nb,nb....\n",
    "    2 epoch: nb,nb.....\n",
    "    \n",
    "    data: the last column is the label\n",
    "    \"\"\"\n",
    "\n",
    "    def __init__(self, data):\n",
    "        self.data = data\n",
    "        self.iteration = 0\n",
    "      \n",
    "        self.train_imgs, self.test_imgs, self.train_labels, self.test_labels = \\\n",
    "        train_test_split(self.data[:, :-1], self.data[:, -1], test_size=0.2, random_state=42)\n",
    "        self.train_num = self.train_imgs.shape[0]\n",
    "        \n",
    "        print('train imgs:', self.train_imgs.shape)\n",
    "        print('test imgs:', self.test_imgs.shape)\n",
    "\n",
    "    def next_batch(self, batch_size):\n",
    "        if self.iteration==0 or (self.iteration+1)>self.train_num//batch_size:  # shuffle in the begin and the nex epoch\n",
    "            self.rand_idx = np.random.choice(range(self.train_num), size=(self.train_num,), replace=False)\n",
    "            self.iteration = 0\n",
    "\n",
    "        left,right = self.iteration, (self.iteration+1)\n",
    "        rang = self.rand_idx[left*batch_size:right*batch_size]\n",
    "        self.iteration += 1\n",
    "        \n",
    "        return self.train_imgs[rang], self.train_labels[rang]\n",
    "\n",
    "    def test_batch(self):\n",
    "        return self.test_imgs, self.test_labels\n"
   ]
  },
  {
   "cell_type": "code",
   "execution_count": 26,
   "metadata": {},
   "outputs": [],
   "source": [
    "x,y = np.random.randn(100,4),np.random.randint(2,size=(100,1))"
   ]
  },
  {
   "cell_type": "code",
   "execution_count": 27,
   "metadata": {},
   "outputs": [],
   "source": [
    "data = np.hstack((x,y))"
   ]
  },
  {
   "cell_type": "code",
   "execution_count": 28,
   "metadata": {},
   "outputs": [
    {
     "name": "stdout",
     "output_type": "stream",
     "text": [
      "train imgs: (80, 4)\n",
      "test imgs: (20, 4)\n"
     ]
    }
   ],
   "source": [
    "d  = dataClass(data)"
   ]
  },
  {
   "cell_type": "code",
   "execution_count": 112,
   "metadata": {},
   "outputs": [
    {
     "name": "stdout",
     "output_type": "stream",
     "text": [
      "2\n"
     ]
    },
    {
     "data": {
      "text/plain": [
       "array([ 0.84807467, -0.24730896, -1.55342064, -1.87151191])"
      ]
     },
     "execution_count": 112,
     "metadata": {},
     "output_type": "execute_result"
    }
   ],
   "source": [
    "x,y = d.next_batch(30)\n",
    "print(d.iteration)\n",
    "x[0]"
   ]
  },
  {
   "cell_type": "code",
   "execution_count": null,
   "metadata": {},
   "outputs": [],
   "source": []
  },
  {
   "cell_type": "code",
   "execution_count": null,
   "metadata": {},
   "outputs": [],
   "source": []
  }
 ],
 "metadata": {
  "kernelspec": {
   "display_name": "Python 3",
   "language": "python",
   "name": "python3"
  },
  "language_info": {
   "codemirror_mode": {
    "name": "ipython",
    "version": 3
   },
   "file_extension": ".py",
   "mimetype": "text/x-python",
   "name": "python",
   "nbconvert_exporter": "python",
   "pygments_lexer": "ipython3",
   "version": "3.5.6"
  }
 },
 "nbformat": 4,
 "nbformat_minor": 2
}
